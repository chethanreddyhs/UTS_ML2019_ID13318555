{
  "nbformat": 4,
  "nbformat_minor": 0,
  "metadata": {
    "colab": {
      "name": "Assignment_2.ipynb",
      "provenance": [],
      "collapsed_sections": [],
      "include_colab_link": true
    },
    "kernelspec": {
      "name": "python3",
      "display_name": "Python 3"
    }
  },
  "cells": [
    {
      "cell_type": "markdown",
      "metadata": {
        "id": "view-in-github",
        "colab_type": "text"
      },
      "source": [
        "<a href=\"https://colab.research.google.com/github/chethanreddyhs/UTS_ML2019_ID13318555/blob/master/Assignment_2.ipynb\" target=\"_parent\"><img src=\"https://colab.research.google.com/assets/colab-badge.svg\" alt=\"Open In Colab\"/></a>"
      ]
    },
    {
      "cell_type": "markdown",
      "metadata": {
        "id": "pHfyU_HXieRj",
        "colab_type": "text"
      },
      "source": [
        "https://github.com/chethanreddyhs/UTS_ML2019_ID13318555"
      ]
    },
    {
      "cell_type": "markdown",
      "metadata": {
        "id": "MRS5ezjH_KQD",
        "colab_type": "text"
      },
      "source": [
        "# Chethan Halaganahalli Shankara Reddy\n",
        "# Student ID-13318555\n",
        "# Machine Learning Assignment2- 32513"
      ]
    },
    {
      "cell_type": "markdown",
      "metadata": {
        "id": "vc05RhalinRk",
        "colab_type": "text"
      },
      "source": [
        "# Introduction\n",
        "\n",
        "\n",
        ">Titanic is a world famous movie which in real life had occured more than 100 years ago. The dataset used in this report is obtained from Titanic dataset. It provides information like name, age, sex, number of siblings and economic status of the passengers aboard.\n",
        "\n",
        "\n",
        "\n",
        "> I will be using Python with the help of machine learning models to analyze the data and predict which passenger has the probability of surviving the most based the attributes available.\n",
        "\n",
        "\n",
        "\n",
        "\n",
        "\n"
      ]
    },
    {
      "cell_type": "markdown",
      "metadata": {
        "id": "9eAfe5DHn5cb",
        "colab_type": "text"
      },
      "source": [
        "# Description of the attributes used\n",
        "survived - Survival (0 = No; 1 = Yes)\n",
        "\n",
        "pclass - Passenger Class (1 = 1st; 2 = 2nd; 3 = 3rd)\n",
        "\n",
        "name - Name\n",
        "\n",
        "sex - Sex\n",
        "\n",
        "age - Age\n",
        "\n",
        "sibsp - Number of siblings/spouses aboard\n",
        "\n",
        "parch - Number of parents/children aboard\n",
        "\n",
        "ticket - Ticket number\n",
        "\n",
        "fare - Passenger fare\n",
        "\n",
        "cabin - Cabin number\n",
        "\n",
        "embarked - Port of embarkation (C = Cherbourg; Q = Queenstown; S = Southampton)\n"
      ]
    },
    {
      "cell_type": "markdown",
      "metadata": {
        "id": "UYUDFypR2-J2",
        "colab_type": "text"
      },
      "source": [
        "#1.Import modules\n",
        "The below mentioned modules are some of the libraries imported that will be used in the python code in the report"
      ]
    },
    {
      "cell_type": "code",
      "metadata": {
        "id": "7c3Y8_eV1moD",
        "colab_type": "code",
        "colab": {}
      },
      "source": [
        "import pandas as pd\n",
        "import scipy\n",
        "import matplotlib.pyplot as plt\n",
        "import numpy as np\n",
        "import os\n",
        "import warnings\n",
        "warnings.simplefilter(action='ignore', category=FutureWarning)\n",
        "\n",
        "plt.style.use('seaborn')"
      ],
      "execution_count": 0,
      "outputs": []
    },
    {
      "cell_type": "markdown",
      "metadata": {
        "id": "T_JVcCR-gsyJ",
        "colab_type": "text"
      },
      "source": [
        "# 2.Import data\n",
        "The dataset required is imported to the location required and printed using the print function."
      ]
    },
    {
      "cell_type": "code",
      "metadata": {
        "id": "WnrKuqhr3LNj",
        "colab_type": "code",
        "colab": {}
      },
      "source": [
        "os.getcwd()\n",
        "os.chdir('/var')"
      ],
      "execution_count": 0,
      "outputs": []
    },
    {
      "cell_type": "code",
      "metadata": {
        "id": "lR9IsPL46hxP",
        "colab_type": "code",
        "outputId": "55e77cfe-ded8-4daa-a18d-f4fa17e6c35b",
        "colab": {
          "base_uri": "https://localhost:8080/",
          "height": 55
        }
      },
      "source": [
        "print (os.listdir('/var'))"
      ],
      "execution_count": 42,
      "outputs": [
        {
          "output_type": "stream",
          "text": [
            "['backups', 'run', 'cache', 'lock', 'log', 'tmp', 'mail', 'lib', 'opt', 'local', 'spool', 'colab', 'train.csv']\n"
          ],
          "name": "stdout"
        }
      ]
    },
    {
      "cell_type": "code",
      "metadata": {
        "id": "xf-vvdFW44JQ",
        "colab_type": "code",
        "colab": {
          "base_uri": "https://localhost:8080/",
          "height": 495
        },
        "outputId": "88a713a6-5b07-4099-f10f-b4db9949a2ab"
      },
      "source": [
        "df = pd.read_csv('train.csv')\n",
        "\n",
        "df.head()"
      ],
      "execution_count": 43,
      "outputs": [
        {
          "output_type": "execute_result",
          "data": {
            "text/html": [
              "<div>\n",
              "<style scoped>\n",
              "    .dataframe tbody tr th:only-of-type {\n",
              "        vertical-align: middle;\n",
              "    }\n",
              "\n",
              "    .dataframe tbody tr th {\n",
              "        vertical-align: top;\n",
              "    }\n",
              "\n",
              "    .dataframe thead th {\n",
              "        text-align: right;\n",
              "    }\n",
              "</style>\n",
              "<table border=\"1\" class=\"dataframe\">\n",
              "  <thead>\n",
              "    <tr style=\"text-align: right;\">\n",
              "      <th></th>\n",
              "      <th>PassengerId</th>\n",
              "      <th>Survived</th>\n",
              "      <th>Pclass</th>\n",
              "      <th>Name</th>\n",
              "      <th>Sex</th>\n",
              "      <th>Age</th>\n",
              "      <th>SibSp</th>\n",
              "      <th>Parch</th>\n",
              "      <th>Ticket</th>\n",
              "      <th>Fare</th>\n",
              "      <th>Cabin</th>\n",
              "      <th>Embarked</th>\n",
              "    </tr>\n",
              "  </thead>\n",
              "  <tbody>\n",
              "    <tr>\n",
              "      <th>0</th>\n",
              "      <td>1</td>\n",
              "      <td>0</td>\n",
              "      <td>3</td>\n",
              "      <td>Braund, Mr. Owen Harris</td>\n",
              "      <td>male</td>\n",
              "      <td>22.0</td>\n",
              "      <td>1</td>\n",
              "      <td>0</td>\n",
              "      <td>A/5 21171</td>\n",
              "      <td>7.2500</td>\n",
              "      <td>NaN</td>\n",
              "      <td>S</td>\n",
              "    </tr>\n",
              "    <tr>\n",
              "      <th>1</th>\n",
              "      <td>2</td>\n",
              "      <td>1</td>\n",
              "      <td>1</td>\n",
              "      <td>Cumings, Mrs. John Bradley (Florence Briggs Th...</td>\n",
              "      <td>female</td>\n",
              "      <td>38.0</td>\n",
              "      <td>1</td>\n",
              "      <td>0</td>\n",
              "      <td>PC 17599</td>\n",
              "      <td>71.2833</td>\n",
              "      <td>C85</td>\n",
              "      <td>C</td>\n",
              "    </tr>\n",
              "    <tr>\n",
              "      <th>2</th>\n",
              "      <td>3</td>\n",
              "      <td>1</td>\n",
              "      <td>3</td>\n",
              "      <td>Heikkinen, Miss. Laina</td>\n",
              "      <td>female</td>\n",
              "      <td>26.0</td>\n",
              "      <td>0</td>\n",
              "      <td>0</td>\n",
              "      <td>STON/O2. 3101282</td>\n",
              "      <td>7.9250</td>\n",
              "      <td>NaN</td>\n",
              "      <td>S</td>\n",
              "    </tr>\n",
              "    <tr>\n",
              "      <th>3</th>\n",
              "      <td>4</td>\n",
              "      <td>1</td>\n",
              "      <td>1</td>\n",
              "      <td>Futrelle, Mrs. Jacques Heath (Lily May Peel)</td>\n",
              "      <td>female</td>\n",
              "      <td>35.0</td>\n",
              "      <td>1</td>\n",
              "      <td>0</td>\n",
              "      <td>113803</td>\n",
              "      <td>53.1000</td>\n",
              "      <td>C123</td>\n",
              "      <td>S</td>\n",
              "    </tr>\n",
              "    <tr>\n",
              "      <th>4</th>\n",
              "      <td>5</td>\n",
              "      <td>0</td>\n",
              "      <td>3</td>\n",
              "      <td>Allen, Mr. William Henry</td>\n",
              "      <td>male</td>\n",
              "      <td>35.0</td>\n",
              "      <td>0</td>\n",
              "      <td>0</td>\n",
              "      <td>373450</td>\n",
              "      <td>8.0500</td>\n",
              "      <td>NaN</td>\n",
              "      <td>S</td>\n",
              "    </tr>\n",
              "  </tbody>\n",
              "</table>\n",
              "</div>"
            ],
            "text/plain": [
              "   PassengerId  Survived  Pclass  ...     Fare Cabin  Embarked\n",
              "0            1         0       3  ...   7.2500   NaN         S\n",
              "1            2         1       1  ...  71.2833   C85         C\n",
              "2            3         1       3  ...   7.9250   NaN         S\n",
              "3            4         1       1  ...  53.1000  C123         S\n",
              "4            5         0       3  ...   8.0500   NaN         S\n",
              "\n",
              "[5 rows x 12 columns]"
            ]
          },
          "metadata": {
            "tags": []
          },
          "execution_count": 43
        }
      ]
    },
    {
      "cell_type": "markdown",
      "metadata": {
        "id": "ySH6Ghc6saXL",
        "colab_type": "text"
      },
      "source": [
        "# Data Exploration"
      ]
    },
    {
      "cell_type": "markdown",
      "metadata": {
        "id": "MhQKpH2L8haE",
        "colab_type": "text"
      },
      "source": [
        "**Three ways to make a calculated field in Python**\n",
        "\n",
        "We will make a new column called Survived_word, which says yes or no for the survival so that the visualizations make more sense\n",
        "\n",
        "1. define function and call it with .apply method\n",
        "2. with lambdas \n",
        "3. np.where function from numpy"
      ]
    },
    {
      "cell_type": "code",
      "metadata": {
        "id": "lvLPH4P37wmo",
        "colab_type": "code",
        "colab": {}
      },
      "source": [
        "#version 1 with def and .apply\n",
        "def survived_to_words(row):\n",
        "    if row.Survived == 1:\n",
        "        value = \"yes\"\n",
        "    elif row.Survived == 0:\n",
        "        value = \"no\"\n",
        "    else:\n",
        "        value = \"unkown\"\n",
        "    \n",
        "    return value\n",
        "\n",
        "df[\"Survived_word\"] = df.apply(survived_to_words, axis=1)"
      ],
      "execution_count": 0,
      "outputs": []
    },
    {
      "cell_type": "code",
      "metadata": {
        "id": "AxEIvU8w8TdN",
        "colab_type": "code",
        "colab": {}
      },
      "source": [
        "#version 2 with lambda\n",
        "df[\"Survived_word\"] = df.Survived.apply(lambda row: \"yes\" if row == 1 else \"no\")"
      ],
      "execution_count": 0,
      "outputs": []
    },
    {
      "cell_type": "code",
      "metadata": {
        "id": "LBtNZArK8ZcX",
        "colab_type": "code",
        "outputId": "ed2c2858-6e4e-4ee6-f7b4-e5846e3526a2",
        "colab": {
          "base_uri": "https://localhost:8080/",
          "height": 495
        }
      },
      "source": [
        "df.head()"
      ],
      "execution_count": 46,
      "outputs": [
        {
          "output_type": "execute_result",
          "data": {
            "text/html": [
              "<div>\n",
              "<style scoped>\n",
              "    .dataframe tbody tr th:only-of-type {\n",
              "        vertical-align: middle;\n",
              "    }\n",
              "\n",
              "    .dataframe tbody tr th {\n",
              "        vertical-align: top;\n",
              "    }\n",
              "\n",
              "    .dataframe thead th {\n",
              "        text-align: right;\n",
              "    }\n",
              "</style>\n",
              "<table border=\"1\" class=\"dataframe\">\n",
              "  <thead>\n",
              "    <tr style=\"text-align: right;\">\n",
              "      <th></th>\n",
              "      <th>PassengerId</th>\n",
              "      <th>Survived</th>\n",
              "      <th>Pclass</th>\n",
              "      <th>Name</th>\n",
              "      <th>Sex</th>\n",
              "      <th>Age</th>\n",
              "      <th>SibSp</th>\n",
              "      <th>Parch</th>\n",
              "      <th>Ticket</th>\n",
              "      <th>Fare</th>\n",
              "      <th>Cabin</th>\n",
              "      <th>Embarked</th>\n",
              "      <th>Survived_word</th>\n",
              "    </tr>\n",
              "  </thead>\n",
              "  <tbody>\n",
              "    <tr>\n",
              "      <th>0</th>\n",
              "      <td>1</td>\n",
              "      <td>0</td>\n",
              "      <td>3</td>\n",
              "      <td>Braund, Mr. Owen Harris</td>\n",
              "      <td>male</td>\n",
              "      <td>22.0</td>\n",
              "      <td>1</td>\n",
              "      <td>0</td>\n",
              "      <td>A/5 21171</td>\n",
              "      <td>7.2500</td>\n",
              "      <td>NaN</td>\n",
              "      <td>S</td>\n",
              "      <td>no</td>\n",
              "    </tr>\n",
              "    <tr>\n",
              "      <th>1</th>\n",
              "      <td>2</td>\n",
              "      <td>1</td>\n",
              "      <td>1</td>\n",
              "      <td>Cumings, Mrs. John Bradley (Florence Briggs Th...</td>\n",
              "      <td>female</td>\n",
              "      <td>38.0</td>\n",
              "      <td>1</td>\n",
              "      <td>0</td>\n",
              "      <td>PC 17599</td>\n",
              "      <td>71.2833</td>\n",
              "      <td>C85</td>\n",
              "      <td>C</td>\n",
              "      <td>yes</td>\n",
              "    </tr>\n",
              "    <tr>\n",
              "      <th>2</th>\n",
              "      <td>3</td>\n",
              "      <td>1</td>\n",
              "      <td>3</td>\n",
              "      <td>Heikkinen, Miss. Laina</td>\n",
              "      <td>female</td>\n",
              "      <td>26.0</td>\n",
              "      <td>0</td>\n",
              "      <td>0</td>\n",
              "      <td>STON/O2. 3101282</td>\n",
              "      <td>7.9250</td>\n",
              "      <td>NaN</td>\n",
              "      <td>S</td>\n",
              "      <td>yes</td>\n",
              "    </tr>\n",
              "    <tr>\n",
              "      <th>3</th>\n",
              "      <td>4</td>\n",
              "      <td>1</td>\n",
              "      <td>1</td>\n",
              "      <td>Futrelle, Mrs. Jacques Heath (Lily May Peel)</td>\n",
              "      <td>female</td>\n",
              "      <td>35.0</td>\n",
              "      <td>1</td>\n",
              "      <td>0</td>\n",
              "      <td>113803</td>\n",
              "      <td>53.1000</td>\n",
              "      <td>C123</td>\n",
              "      <td>S</td>\n",
              "      <td>yes</td>\n",
              "    </tr>\n",
              "    <tr>\n",
              "      <th>4</th>\n",
              "      <td>5</td>\n",
              "      <td>0</td>\n",
              "      <td>3</td>\n",
              "      <td>Allen, Mr. William Henry</td>\n",
              "      <td>male</td>\n",
              "      <td>35.0</td>\n",
              "      <td>0</td>\n",
              "      <td>0</td>\n",
              "      <td>373450</td>\n",
              "      <td>8.0500</td>\n",
              "      <td>NaN</td>\n",
              "      <td>S</td>\n",
              "      <td>no</td>\n",
              "    </tr>\n",
              "  </tbody>\n",
              "</table>\n",
              "</div>"
            ],
            "text/plain": [
              "   PassengerId  Survived  Pclass  ... Cabin Embarked  Survived_word\n",
              "0            1         0       3  ...   NaN        S             no\n",
              "1            2         1       1  ...   C85        C            yes\n",
              "2            3         1       3  ...   NaN        S            yes\n",
              "3            4         1       1  ...  C123        S            yes\n",
              "4            5         0       3  ...   NaN        S             no\n",
              "\n",
              "[5 rows x 13 columns]"
            ]
          },
          "metadata": {
            "tags": []
          },
          "execution_count": 46
        }
      ]
    },
    {
      "cell_type": "code",
      "metadata": {
        "id": "vGxfLO278tSa",
        "colab_type": "code",
        "outputId": "c64a83b6-2768-4a15-b904-1f50b6ac1132",
        "colab": {
          "base_uri": "https://localhost:8080/",
          "height": 495
        }
      },
      "source": [
        "#version 3 with np.where\n",
        "df[\"Survived_word\"] = np.where(df.Survived == 1, \"yes\", \"no\")\n",
        "df.head()"
      ],
      "execution_count": 47,
      "outputs": [
        {
          "output_type": "execute_result",
          "data": {
            "text/html": [
              "<div>\n",
              "<style scoped>\n",
              "    .dataframe tbody tr th:only-of-type {\n",
              "        vertical-align: middle;\n",
              "    }\n",
              "\n",
              "    .dataframe tbody tr th {\n",
              "        vertical-align: top;\n",
              "    }\n",
              "\n",
              "    .dataframe thead th {\n",
              "        text-align: right;\n",
              "    }\n",
              "</style>\n",
              "<table border=\"1\" class=\"dataframe\">\n",
              "  <thead>\n",
              "    <tr style=\"text-align: right;\">\n",
              "      <th></th>\n",
              "      <th>PassengerId</th>\n",
              "      <th>Survived</th>\n",
              "      <th>Pclass</th>\n",
              "      <th>Name</th>\n",
              "      <th>Sex</th>\n",
              "      <th>Age</th>\n",
              "      <th>SibSp</th>\n",
              "      <th>Parch</th>\n",
              "      <th>Ticket</th>\n",
              "      <th>Fare</th>\n",
              "      <th>Cabin</th>\n",
              "      <th>Embarked</th>\n",
              "      <th>Survived_word</th>\n",
              "    </tr>\n",
              "  </thead>\n",
              "  <tbody>\n",
              "    <tr>\n",
              "      <th>0</th>\n",
              "      <td>1</td>\n",
              "      <td>0</td>\n",
              "      <td>3</td>\n",
              "      <td>Braund, Mr. Owen Harris</td>\n",
              "      <td>male</td>\n",
              "      <td>22.0</td>\n",
              "      <td>1</td>\n",
              "      <td>0</td>\n",
              "      <td>A/5 21171</td>\n",
              "      <td>7.2500</td>\n",
              "      <td>NaN</td>\n",
              "      <td>S</td>\n",
              "      <td>no</td>\n",
              "    </tr>\n",
              "    <tr>\n",
              "      <th>1</th>\n",
              "      <td>2</td>\n",
              "      <td>1</td>\n",
              "      <td>1</td>\n",
              "      <td>Cumings, Mrs. John Bradley (Florence Briggs Th...</td>\n",
              "      <td>female</td>\n",
              "      <td>38.0</td>\n",
              "      <td>1</td>\n",
              "      <td>0</td>\n",
              "      <td>PC 17599</td>\n",
              "      <td>71.2833</td>\n",
              "      <td>C85</td>\n",
              "      <td>C</td>\n",
              "      <td>yes</td>\n",
              "    </tr>\n",
              "    <tr>\n",
              "      <th>2</th>\n",
              "      <td>3</td>\n",
              "      <td>1</td>\n",
              "      <td>3</td>\n",
              "      <td>Heikkinen, Miss. Laina</td>\n",
              "      <td>female</td>\n",
              "      <td>26.0</td>\n",
              "      <td>0</td>\n",
              "      <td>0</td>\n",
              "      <td>STON/O2. 3101282</td>\n",
              "      <td>7.9250</td>\n",
              "      <td>NaN</td>\n",
              "      <td>S</td>\n",
              "      <td>yes</td>\n",
              "    </tr>\n",
              "    <tr>\n",
              "      <th>3</th>\n",
              "      <td>4</td>\n",
              "      <td>1</td>\n",
              "      <td>1</td>\n",
              "      <td>Futrelle, Mrs. Jacques Heath (Lily May Peel)</td>\n",
              "      <td>female</td>\n",
              "      <td>35.0</td>\n",
              "      <td>1</td>\n",
              "      <td>0</td>\n",
              "      <td>113803</td>\n",
              "      <td>53.1000</td>\n",
              "      <td>C123</td>\n",
              "      <td>S</td>\n",
              "      <td>yes</td>\n",
              "    </tr>\n",
              "    <tr>\n",
              "      <th>4</th>\n",
              "      <td>5</td>\n",
              "      <td>0</td>\n",
              "      <td>3</td>\n",
              "      <td>Allen, Mr. William Henry</td>\n",
              "      <td>male</td>\n",
              "      <td>35.0</td>\n",
              "      <td>0</td>\n",
              "      <td>0</td>\n",
              "      <td>373450</td>\n",
              "      <td>8.0500</td>\n",
              "      <td>NaN</td>\n",
              "      <td>S</td>\n",
              "      <td>no</td>\n",
              "    </tr>\n",
              "  </tbody>\n",
              "</table>\n",
              "</div>"
            ],
            "text/plain": [
              "   PassengerId  Survived  Pclass  ... Cabin Embarked  Survived_word\n",
              "0            1         0       3  ...   NaN        S             no\n",
              "1            2         1       1  ...   C85        C            yes\n",
              "2            3         1       3  ...   NaN        S            yes\n",
              "3            4         1       1  ...  C123        S            yes\n",
              "4            5         0       3  ...   NaN        S             no\n",
              "\n",
              "[5 rows x 13 columns]"
            ]
          },
          "metadata": {
            "tags": []
          },
          "execution_count": 47
        }
      ]
    },
    {
      "cell_type": "markdown",
      "metadata": {
        "id": "RXaViRkV9RWu",
        "colab_type": "text"
      },
      "source": [
        "**We print the shape of our dataframe (rows, columns) and after that the amount of rows that have a value in each column**"
      ]
    },
    {
      "cell_type": "code",
      "metadata": {
        "id": "9JzltgII9doF",
        "colab_type": "code",
        "outputId": "e75a1169-2e63-4201-e0bb-1e9c82aa7b33",
        "colab": {
          "base_uri": "https://localhost:8080/",
          "height": 308
        }
      },
      "source": [
        "print('shape is',df.shape, '\\n')\n",
        "print(df.count())"
      ],
      "execution_count": 48,
      "outputs": [
        {
          "output_type": "stream",
          "text": [
            "shape is (891, 13) \n",
            "\n",
            "PassengerId      891\n",
            "Survived         891\n",
            "Pclass           891\n",
            "Name             891\n",
            "Sex              891\n",
            "Age              714\n",
            "SibSp            891\n",
            "Parch            891\n",
            "Ticket           891\n",
            "Fare             891\n",
            "Cabin            204\n",
            "Embarked         889\n",
            "Survived_word    891\n",
            "dtype: int64\n"
          ],
          "name": "stdout"
        }
      ]
    },
    {
      "cell_type": "markdown",
      "metadata": {
        "id": "n5Itc0cd94Gx",
        "colab_type": "text"
      },
      "source": [
        "# 3. Visualization pt 1\n",
        "\n",
        "Lets make some visualizations get a better understanding of our data"
      ]
    },
    {
      "cell_type": "markdown",
      "metadata": {
        "id": "JeVGSdpEwYjV",
        "colab_type": "text"
      },
      "source": [
        "# Survival Rate\n",
        "The survival rate of the tragedy can be seen from the code below"
      ]
    },
    {
      "cell_type": "code",
      "metadata": {
        "id": "HYWLEdm7-D67",
        "colab_type": "code",
        "outputId": "81aead14-5a82-4242-c871-75a107a81606",
        "colab": {
          "base_uri": "https://localhost:8080/",
          "height": 452
        }
      },
      "source": [
        "fig=plt.figure(figsize=(8, 5), dpi= 100, facecolor='w', edgecolor='m')\n",
        "\n",
        "df.Survived.value_counts(normalize=True).plot(kind=\"bar\")\n",
        "plt.title(\"Survived\")\n",
        "\n",
        "plt.show()"
      ],
      "execution_count": 49,
      "outputs": [
        {
          "output_type": "display_data",
          "data": {
            "image/png": "[encoded data removed]",
            "text/plain": [
              "<Figure size 800x500 with 1 Axes>"
            ]
          },
          "metadata": {
            "tags": []
          }
        }
      ]
    },
    {
      "cell_type": "markdown",
      "metadata": {
        "id": "7THN9-bQwmV3",
        "colab_type": "text"
      },
      "source": [
        "# Suvival wrt Age\n",
        "The number of people survived with respect their age is seen in the graph below, where 1 represents the survived rate."
      ]
    },
    {
      "cell_type": "code",
      "metadata": {
        "id": "R7M8kdpm_otP",
        "colab_type": "code",
        "outputId": "f7d4167b-2c10-4b60-c50b-f7dcdd0b793f",
        "colab": {
          "base_uri": "https://localhost:8080/",
          "height": 368
        }
      },
      "source": [
        "fig=plt.figure(figsize=(8, 5), dpi= 80, facecolor='w', edgecolor='k')\n",
        "\n",
        "plt.scatter(df.Survived, df.Age, alpha=0.1)\n",
        "plt.title(\"Age wrt Survived\")\n",
        "\n",
        "plt.show()"
      ],
      "execution_count": 50,
      "outputs": [
        {
          "output_type": "display_data",
          "data": {
            "image/png": "[encoded data removed]",
            "text/plain": [
              "<Figure size 640x400 with 1 Axes>"
            ]
          },
          "metadata": {
            "tags": []
          }
        }
      ]
    },
    {
      "cell_type": "markdown",
      "metadata": {
        "id": "apLIPsPkxFM4",
        "colab_type": "text"
      },
      "source": [
        "# Survival wrt class\n",
        "The chart below represents the number of people on board with respect to their economic status or class.\n",
        "\n",
        "Class 3 represents the lower or poor class and class 1 represents the high or rich class. It can be seen that lower class people consists more than half the poeple on board, while the rich class are around 25% of the total size"
      ]
    },
    {
      "cell_type": "code",
      "metadata": {
        "id": "l7xPAWOI_2JY",
        "colab_type": "code",
        "outputId": "12c43f82-4972-40e8-eaf0-bf7199b94bc8",
        "colab": {
          "base_uri": "https://localhost:8080/",
          "height": 439
        }
      },
      "source": [
        "fig=plt.figure(figsize=(22, 13), dpi= 80, facecolor='w', edgecolor='k')\n",
        "\n",
        "plt.subplot2grid((2,3), (0,0))\n",
        "df.Pclass.value_counts(normalize=True).plot(kind=\"pie\")\n",
        "plt.title(\"Distribution of class\")\n",
        "\n",
        "plt.subplot2grid((2,3), (0,1))\n",
        "df.Pclass.value_counts(normalize=True).plot(kind=\"bar\")\n",
        "plt.title(\"Distribution of class\")\n",
        "\n",
        "plt.show()"
      ],
      "execution_count": 51,
      "outputs": [
        {
          "output_type": "display_data",
          "data": {
            "image/png": "[encoded data removed]",
            "text/plain": [
              "<Figure size 1760x1040 with 2 Axes>"
            ]
          },
          "metadata": {
            "tags": []
          }
        }
      ]
    },
    {
      "cell_type": "markdown",
      "metadata": {
        "id": "1w_UEbXK3Rmk",
        "colab_type": "text"
      },
      "source": [
        "# Class wrt Age\n",
        "It can be seen that the majority of the people are from 20 to 40 yeras old and more number of rich class passengers are young and fall in this age category as they could afford it which is quite opposite in the case of lower class."
      ]
    },
    {
      "cell_type": "code",
      "metadata": {
        "id": "i8K2CGFFBXJQ",
        "colab_type": "code",
        "outputId": "010bb2ec-55d7-4f80-d07b-f9089af26083",
        "colab": {
          "base_uri": "https://localhost:8080/",
          "height": 368
        }
      },
      "source": [
        "fig=plt.figure(figsize=(10, 5), dpi= 80, facecolor='w', edgecolor='k')\n",
        "\n",
        "for x in [1,2,3]:\n",
        "    df.Age[df.Pclass == x].plot(kind=\"kde\")\n",
        "plt.title(\"Class with respect to Age\")\n",
        "plt.legend((\"Class 1\", \"Class 2\", \"Class 3\"))\n",
        "\n",
        "plt.show()"
      ],
      "execution_count": 52,
      "outputs": [
        {
          "output_type": "display_data",
          "data": {
            "image/png": "[encoded data removed]",
            "text/plain": [
              "<Figure size 800x400 with 1 Axes>"
            ]
          },
          "metadata": {
            "tags": []
          }
        }
      ]
    },
    {
      "cell_type": "markdown",
      "metadata": {
        "id": "eF7_vlSt0E-I",
        "colab_type": "text"
      },
      "source": [
        "# Embark location\n",
        "It can be seen from the grapg that most of the people boarded the ship at Southampton."
      ]
    },
    {
      "cell_type": "code",
      "metadata": {
        "id": "C6KDC7vSBh-i",
        "colab_type": "code",
        "outputId": "31da25ff-136f-40c4-f113-dbf11da6ac73",
        "colab": {
          "base_uri": "https://localhost:8080/",
          "height": 367
        }
      },
      "source": [
        "fig=plt.figure(figsize=(8, 5), dpi= 80, facecolor='w', edgecolor='k')\n",
        "\n",
        "df.Embarked.value_counts(normalize=True).plot(kind=\"bar\")\n",
        "plt.title(\"Embarked location\")\n",
        "\n",
        "plt.show()\n"
      ],
      "execution_count": 53,
      "outputs": [
        {
          "output_type": "display_data",
          "data": {
            "image/png": "[encoded data removed]",
            "text/plain": [
              "<Figure size 640x400 with 1 Axes>"
            ]
          },
          "metadata": {
            "tags": []
          }
        }
      ]
    },
    {
      "cell_type": "markdown",
      "metadata": {
        "id": "bQzM0EpJ0odw",
        "colab_type": "text"
      },
      "source": [
        "# Survival wrt sex\n",
        "We can remember the shouting in the movie \"women and children first\" during thr rescue operation, which is true when the rate of surival was compared.\n",
        "\n",
        "It can be seen in the graph below that more number of women and children survived the crash compared to men."
      ]
    },
    {
      "cell_type": "code",
      "metadata": {
        "id": "mExlcdYmBo6B",
        "colab_type": "code",
        "outputId": "48580cb5-8b81-43e4-d9a5-25e381ab0cd5",
        "colab": {
          "base_uri": "https://localhost:8080/",
          "height": 343
        }
      },
      "source": [
        "fig = plt.figure(figsize=(22,15))\n",
        "\n",
        "plt.subplot2grid((3,4), (0,0))\n",
        "df.Survived_word[df.Sex == \"male\"].value_counts(normalize=True).plot(kind=\"bar\", color=\"#fc8320\")\n",
        "plt.title(\"Men survived\")\n",
        "\n",
        "plt.subplot2grid((3,4), (0,1))\n",
        "df.Survived_word[df.Sex == \"female\"].value_counts(normalize=True).plot(kind=\"bar\", color=\"#006418\")\n",
        "plt.title(\"Women survived\")\n",
        "\n",
        "plt.subplot2grid((3,4), (0,2))\n",
        "df.Sex[df.Survived_word == \"yes\"].value_counts(normalize=True).plot(kind=\"bar\", color=\"#065183\")\n",
        "plt.title(\"Sex of survivors\")\n",
        "\n",
        "plt.show()"
      ],
      "execution_count": 54,
      "outputs": [
        {
          "output_type": "display_data",
          "data": {
            "image/png": "[encoded data removed]",
            "text/plain": [
              "<Figure size 1584x1080 with 3 Axes>"
            ]
          },
          "metadata": {
            "tags": []
          }
        }
      ]
    },
    {
      "cell_type": "markdown",
      "metadata": {
        "id": "vPW6dQzq1heB",
        "colab_type": "text"
      },
      "source": [
        "# Surival wrt class\n",
        "The graph below shows that more number of rich class survived the crash while most of the lower class did not survive the crash."
      ]
    },
    {
      "cell_type": "code",
      "metadata": {
        "id": "obe2eSFrBtf9",
        "colab_type": "code",
        "outputId": "a00f388e-2527-4d4d-9e13-b8ddf05f81a5",
        "colab": {
          "base_uri": "https://localhost:8080/",
          "height": 368
        }
      },
      "source": [
        "fig=plt.figure(figsize=(10, 5), dpi= 80, facecolor='w', edgecolor='k')\n",
        "\n",
        "for x in [1,2,3]:\n",
        "    df.Survived[df.Pclass == x].plot(kind=\"kde\")\n",
        "plt.title(\"Survived wrt Class\")\n",
        "plt.legend((\"Class 1\", \"Class 2\", \"Class 3\"))\n",
        "\n",
        "plt.show()"
      ],
      "execution_count": 55,
      "outputs": [
        {
          "output_type": "display_data",
          "data": {
            "image/png": "[encoded data removed]",
            "text/plain": [
              "<Figure size 800x400 with 1 Axes>"
            ]
          },
          "metadata": {
            "tags": []
          }
        }
      ]
    },
    {
      "cell_type": "markdown",
      "metadata": {
        "id": "J1Si2FhDB2OP",
        "colab_type": "text"
      },
      "source": [
        "# 4. Visualization pt 2\n",
        "\n",
        "**Now we understand our data by visualizing it, lets analyze it in more depth**\n",
        "\n",
        "A lot of rich women survived the crash!"
      ]
    },
    {
      "cell_type": "code",
      "metadata": {
        "id": "ZxxRfjFICGli",
        "colab_type": "code",
        "outputId": "7c63842e-514a-4ad3-aaf8-0703cec9ef4a",
        "colab": {
          "base_uri": "https://localhost:8080/",
          "height": 596
        }
      },
      "source": [
        "fig = plt.figure(figsize=(22,15))\n",
        "\n",
        "plt.subplot2grid((3,4), (0,0))\n",
        "df.Survived_word[(df.Sex == \"male\")  &  (df.Pclass == 1)].value_counts(normalize=True).plot(kind=\"bar\", color=\"#fc8320\")\n",
        "plt.title(\"Rich men survived\")\n",
        "\n",
        "plt.subplot2grid((3,4), (0,1))\n",
        "df.Survived_word[(df.Sex == \"male\")  &  (df.Pclass == 3)].value_counts(normalize=True).plot(kind=\"bar\", color=\"#006418\")\n",
        "plt.title(\"Poor men survived\")\n",
        "\n",
        "plt.subplot2grid((3,4), (1,0))\n",
        "df.Survived_word[(df.Sex == \"female\")  &  (df.Pclass == 1)].value_counts(normalize=True).plot(kind=\"bar\", color=\"#065183\")\n",
        "plt.title(\"Rich women survived\")\n",
        "\n",
        "plt.subplot2grid((3,4), (1,1))\n",
        "df.Survived_word[(df.Sex == \"female\")  &  (df.Pclass == 3)].value_counts(normalize=True).plot(kind=\"bar\", color=\"#b30000\", alpha=0.75)\n",
        "plt.title(\"Poor women survived\")\n",
        "plt.show()"
      ],
      "execution_count": 56,
      "outputs": [
        {
          "output_type": "display_data",
          "data": {
            "image/png": "[encoded data removed]",
            "text/plain": [
              "<Figure size 1584x1080 with 4 Axes>"
            ]
          },
          "metadata": {
            "tags": []
          }
        }
      ]
    },
    {
      "cell_type": "markdown",
      "metadata": {
        "id": "-DqaYiBBCOuo",
        "colab_type": "text"
      },
      "source": [
        "## 5. ML Models\n",
        "\n",
        "Lets start to use some ML models on this data\n",
        "\n",
        "\n",
        "First we start with some hypothesis which we found by visualizing our data (EDA)\n",
        "\n",
        "\n",
        "1.   Gender is a good predictor for suvival, women will more likely survive.\n",
        "\n",
        "2.   The higher the class (1 is high, 3 is low) the more likeley the person has survived\n",
        "3.   Logically we can derive from the points above that a rich women has almost always survived (97%).\n",
        "\n",
        "Lets first use gender only as the predictor for survival, as stated in the first hypothesis"
      ]
    },
    {
      "cell_type": "code",
      "metadata": {
        "id": "Hf50AyUfG6I5",
        "colab_type": "code",
        "outputId": "d2e6d95b-0786-4ca9-e32f-b67a04957810",
        "colab": {
          "base_uri": "https://localhost:8080/",
          "height": 72
        }
      },
      "source": [
        "train = df.copy()\n",
        "\n",
        "train[\"Hypothesis\"] = np.where(train.Sex == 'female', 1, 0)\n",
        "train['Result'] = np.where(train.Hypothesis == train.Survived, 1, 0)\n",
        "\n",
        "train.Result.value_counts(normalize=True)"
      ],
      "execution_count": 57,
      "outputs": [
        {
          "output_type": "execute_result",
          "data": {
            "text/plain": [
              "1    0.786756\n",
              "0    0.213244\n",
              "Name: Result, dtype: float64"
            ]
          },
          "metadata": {
            "tags": []
          },
          "execution_count": 57
        }
      ]
    },
    {
      "cell_type": "markdown",
      "metadata": {
        "id": "oCTVx2S9HDOp",
        "colab_type": "text"
      },
      "source": [
        "**Conclusion**: if we only use gender as a predictor, we already have a 79% accuracty, thats high!\n",
        "\n",
        "But lets try to predict with actuall ML models like:\n",
        "\n",
        "1.Logistic Regression\n",
        "\n",
        "2.Polynomial\n",
        "\n",
        "3.Random forest\n",
        "\n",
        "4.XGBoost\n",
        "\n",
        "5.Decision tree with cross validation\n"
      ]
    },
    {
      "cell_type": "markdown",
      "metadata": {
        "id": "pGHtP4C0HRda",
        "colab_type": "text"
      },
      "source": [
        "# 5.1 Feature engineering\n",
        "\n",
        "Before we can use our ML models, we need to clean up our data (handle NaNs) and convert our categorical data"
      ]
    },
    {
      "cell_type": "code",
      "metadata": {
        "id": "x9-B7WuaH36W",
        "colab_type": "code",
        "outputId": "2be1c116-9d4d-4bee-f21f-d42a9c3bb576",
        "colab": {
          "base_uri": "https://localhost:8080/",
          "height": 495
        }
      },
      "source": [
        "def clean_data(data):\n",
        "    # Fill the empty rows of Fare and Age with their median\n",
        "    data['Fare'] = data.Fare.fillna(data.Fare.dropna().median())\n",
        "    data['Age'] = data.Age.fillna(data.Age.dropna().median())\n",
        "    \n",
        "    # Convert Sex column from words \"Female\" and \"Male\" to 0 and 1\n",
        "    data[\"Sex\"] = np.where(data.Sex == \"male\", 0, 1)\n",
        "    \n",
        "    # Fill NaNs of Embarked column and convert to integers\n",
        "    data[\"Embarked\"] = data[\"Embarked\"].fillna(\"S\")\n",
        "    conditions = [data['Embarked'] == \"S\", \n",
        "                  data['Embarked'] == \"C\",\n",
        "                  data['Embarked'] == \"Q\"]\n",
        "    choices = [0, 1, 2]\n",
        "    data[\"Embarked\"] = np.select(conditions, choices, default = 0)\n",
        "\n",
        "clean_data(train)\n",
        "\n",
        "train.head()"
      ],
      "execution_count": 58,
      "outputs": [
        {
          "output_type": "execute_result",
          "data": {
            "text/html": [
              "<div>\n",
              "<style scoped>\n",
              "    .dataframe tbody tr th:only-of-type {\n",
              "        vertical-align: middle;\n",
              "    }\n",
              "\n",
              "    .dataframe tbody tr th {\n",
              "        vertical-align: top;\n",
              "    }\n",
              "\n",
              "    .dataframe thead th {\n",
              "        text-align: right;\n",
              "    }\n",
              "</style>\n",
              "<table border=\"1\" class=\"dataframe\">\n",
              "  <thead>\n",
              "    <tr style=\"text-align: right;\">\n",
              "      <th></th>\n",
              "      <th>PassengerId</th>\n",
              "      <th>Survived</th>\n",
              "      <th>Pclass</th>\n",
              "      <th>Name</th>\n",
              "      <th>Sex</th>\n",
              "      <th>Age</th>\n",
              "      <th>SibSp</th>\n",
              "      <th>Parch</th>\n",
              "      <th>Ticket</th>\n",
              "      <th>Fare</th>\n",
              "      <th>Cabin</th>\n",
              "      <th>Embarked</th>\n",
              "      <th>Survived_word</th>\n",
              "      <th>Hypothesis</th>\n",
              "      <th>Result</th>\n",
              "    </tr>\n",
              "  </thead>\n",
              "  <tbody>\n",
              "    <tr>\n",
              "      <th>0</th>\n",
              "      <td>1</td>\n",
              "      <td>0</td>\n",
              "      <td>3</td>\n",
              "      <td>Braund, Mr. Owen Harris</td>\n",
              "      <td>0</td>\n",
              "      <td>22.0</td>\n",
              "      <td>1</td>\n",
              "      <td>0</td>\n",
              "      <td>A/5 21171</td>\n",
              "      <td>7.2500</td>\n",
              "      <td>NaN</td>\n",
              "      <td>0</td>\n",
              "      <td>no</td>\n",
              "      <td>0</td>\n",
              "      <td>1</td>\n",
              "    </tr>\n",
              "    <tr>\n",
              "      <th>1</th>\n",
              "      <td>2</td>\n",
              "      <td>1</td>\n",
              "      <td>1</td>\n",
              "      <td>Cumings, Mrs. John Bradley (Florence Briggs Th...</td>\n",
              "      <td>1</td>\n",
              "      <td>38.0</td>\n",
              "      <td>1</td>\n",
              "      <td>0</td>\n",
              "      <td>PC 17599</td>\n",
              "      <td>71.2833</td>\n",
              "      <td>C85</td>\n",
              "      <td>1</td>\n",
              "      <td>yes</td>\n",
              "      <td>1</td>\n",
              "      <td>1</td>\n",
              "    </tr>\n",
              "    <tr>\n",
              "      <th>2</th>\n",
              "      <td>3</td>\n",
              "      <td>1</td>\n",
              "      <td>3</td>\n",
              "      <td>Heikkinen, Miss. Laina</td>\n",
              "      <td>1</td>\n",
              "      <td>26.0</td>\n",
              "      <td>0</td>\n",
              "      <td>0</td>\n",
              "      <td>STON/O2. 3101282</td>\n",
              "      <td>7.9250</td>\n",
              "      <td>NaN</td>\n",
              "      <td>0</td>\n",
              "      <td>yes</td>\n",
              "      <td>1</td>\n",
              "      <td>1</td>\n",
              "    </tr>\n",
              "    <tr>\n",
              "      <th>3</th>\n",
              "      <td>4</td>\n",
              "      <td>1</td>\n",
              "      <td>1</td>\n",
              "      <td>Futrelle, Mrs. Jacques Heath (Lily May Peel)</td>\n",
              "      <td>1</td>\n",
              "      <td>35.0</td>\n",
              "      <td>1</td>\n",
              "      <td>0</td>\n",
              "      <td>113803</td>\n",
              "      <td>53.1000</td>\n",
              "      <td>C123</td>\n",
              "      <td>0</td>\n",
              "      <td>yes</td>\n",
              "      <td>1</td>\n",
              "      <td>1</td>\n",
              "    </tr>\n",
              "    <tr>\n",
              "      <th>4</th>\n",
              "      <td>5</td>\n",
              "      <td>0</td>\n",
              "      <td>3</td>\n",
              "      <td>Allen, Mr. William Henry</td>\n",
              "      <td>0</td>\n",
              "      <td>35.0</td>\n",
              "      <td>0</td>\n",
              "      <td>0</td>\n",
              "      <td>373450</td>\n",
              "      <td>8.0500</td>\n",
              "      <td>NaN</td>\n",
              "      <td>0</td>\n",
              "      <td>no</td>\n",
              "      <td>0</td>\n",
              "      <td>1</td>\n",
              "    </tr>\n",
              "  </tbody>\n",
              "</table>\n",
              "</div>"
            ],
            "text/plain": [
              "   PassengerId  Survived  Pclass  ... Survived_word  Hypothesis  Result\n",
              "0            1         0       3  ...            no           0       1\n",
              "1            2         1       1  ...           yes           1       1\n",
              "2            3         1       3  ...           yes           1       1\n",
              "3            4         1       1  ...           yes           1       1\n",
              "4            5         0       3  ...            no           0       1\n",
              "\n",
              "[5 rows x 15 columns]"
            ]
          },
          "metadata": {
            "tags": []
          },
          "execution_count": 58
        }
      ]
    },
    {
      "cell_type": "markdown",
      "metadata": {
        "id": "OYdD_23RIK7q",
        "colab_type": "text"
      },
      "source": [
        "# 5.2 Logistic Regression Classifier\n",
        "\n",
        "Since our dependent variable (Survived) is binary (0 or 1) we have to classify our data to these to outcomes. Logistic regression is one of the models we can use here to classify our data."
      ]
    },
    {
      "cell_type": "code",
      "metadata": {
        "id": "j7ITEYg7IU6o",
        "colab_type": "code",
        "colab": {}
      },
      "source": [
        "from sklearn.linear_model import LogisticRegression\n",
        "from sklearn.model_selection import cross_val_score"
      ],
      "execution_count": 0,
      "outputs": []
    },
    {
      "cell_type": "code",
      "metadata": {
        "id": "5NQY5URoId0Q",
        "colab_type": "code",
        "outputId": "49c8350f-db66-4657-c597-b2e69d6cc027",
        "colab": {
          "base_uri": "https://localhost:8080/",
          "height": 54
        }
      },
      "source": [
        "feature_columns = ['Pclass', 'Age', 'Sex', 'SibSp', 'Parch']\n",
        "\n",
        "target = train.Survived.values\n",
        "features = train[feature_columns].values\n",
        "\n",
        "classifier = LogisticRegression(solver='lbfgs')\n",
        "classifier_ = classifier.fit(features, target)\n",
        "\n",
        "print(\"logistic regression accuracy =\", classifier_.score(features, target))\n",
        "\n",
        "print(\"logistic regression accuracy with cross validation = \", np.mean(cross_val_score(classifier, \n",
        "                                                                                        features, \n",
        "                                                                                        target, \n",
        "                                                                                        cv=10)))"
      ],
      "execution_count": 60,
      "outputs": [
        {
          "output_type": "stream",
          "text": [
            "logistic regression accuracy = 0.7912457912457912\n",
            "logistic regression accuracy with cross validation =  0.7867617183066622\n"
          ],
          "name": "stdout"
        }
      ]
    },
    {
      "cell_type": "markdown",
      "metadata": {
        "id": "VjUBgshuek5Z",
        "colab_type": "text"
      },
      "source": [
        "# 5.3 Polynomial\n",
        "\n",
        "With logistic regression we assume that our data is linear, but it could be the case that some relations are second degree (polynomial). So lets try to fit a second degree relations between the features and the target variable."
      ]
    },
    {
      "cell_type": "code",
      "metadata": {
        "id": "xadjFAapex1L",
        "colab_type": "code",
        "colab": {}
      },
      "source": [
        "from sklearn.preprocessing import PolynomialFeatures"
      ],
      "execution_count": 0,
      "outputs": []
    },
    {
      "cell_type": "code",
      "metadata": {
        "id": "PjxRLTzqe0Vh",
        "colab_type": "code",
        "colab": {
          "base_uri": "https://localhost:8080/",
          "height": 54
        },
        "outputId": "b1e31e68-c8de-4610-c364-23192edc58a8"
      },
      "source": [
        "poly = PolynomialFeatures(degree=2)\n",
        "poly_features = poly.fit_transform(features)\n",
        "\n",
        "classifier = LogisticRegression()\n",
        "classifier_ = classifier.fit(poly_features, target)\n",
        "print(\"accuracy with polynomial features =\", classifier_.score(poly_features, target))\n",
        "\n",
        "print(\"accuracy with polynomial features combined with cross validation =\", \n",
        "      np.mean(cross_val_score(classifier, \n",
        "                               poly_features, \n",
        "                               target, \n",
        "                               cv=10)))"
      ],
      "execution_count": 62,
      "outputs": [
        {
          "output_type": "stream",
          "text": [
            "accuracy with polynomial features = 0.8305274971941639\n",
            "accuracy with polynomial features combined with cross validation = 0.8227303938258995\n"
          ],
          "name": "stdout"
        }
      ]
    },
    {
      "cell_type": "markdown",
      "metadata": {
        "id": "mrLNtnkSffT9",
        "colab_type": "text"
      },
      "source": [
        "# 5.4 Random forrest classifier\n",
        "\n",
        "We can also try to attempt to fit our data with decision trees, not just one, but 100 of them. Basically we will use the mean of the accuracy of these 100 decision trees. The advantage of RF compared to a single decision tree is that we can anticipate on overfitting for a part."
      ]
    },
    {
      "cell_type": "code",
      "metadata": {
        "id": "m1ikB6NAfh91",
        "colab_type": "code",
        "colab": {
          "base_uri": "https://localhost:8080/",
          "height": 54
        },
        "outputId": "dbf0d4bc-4286-4a46-dbe2-d3a6f4333f5d"
      },
      "source": [
        "from sklearn.ensemble import RandomForestClassifier\n",
        "\n",
        "rf = RandomForestClassifier(n_estimators=100)\n",
        "rf_ = rf.fit(features, target)\n",
        "\n",
        "print(\"accuracy with random forrest regressor =\", rf_.score(features, target))\n",
        "\n",
        "print(\"accuracy with random forrest regressor and cross validation =\",\n",
        "      np.mean(cross_val_score(rf, \n",
        "                               features, \n",
        "                               target, \n",
        "                               cv=10)))"
      ],
      "execution_count": 63,
      "outputs": [
        {
          "output_type": "stream",
          "text": [
            "accuracy with random forrest regressor = 0.9169472502805837\n",
            "accuracy with random forrest regressor and cross validation = 0.8081852230166836\n"
          ],
          "name": "stdout"
        }
      ]
    },
    {
      "cell_type": "markdown",
      "metadata": {
        "id": "54VJkg6dfzcm",
        "colab_type": "text"
      },
      "source": [
        "# 5.5 Decision tree with cross validation"
      ]
    },
    {
      "cell_type": "code",
      "metadata": {
        "id": "D2Rlm0eOf8m4",
        "colab_type": "code",
        "colab": {
          "base_uri": "https://localhost:8080/",
          "height": 54
        },
        "outputId": "436d26a9-3f1d-4a83-c248-65b7796af6c7"
      },
      "source": [
        "from sklearn.tree import DecisionTreeClassifier\n",
        "\n",
        "decision_tree = DecisionTreeClassifier(random_state=1,\n",
        "                                      max_depth=7,\n",
        "                                      min_samples_split=2)\n",
        "\n",
        "decision_tree_ = decision_tree.fit(features, target)\n",
        "\n",
        "print(\"accuracy with decision tree =\", decision_tree_.score(features, target))\n",
        "print(\"accuracy with decision tree and cross validation =\",\n",
        "     np.mean(cross_val_score(decision_tree, features, target, cv=50)))"
      ],
      "execution_count": 64,
      "outputs": [
        {
          "output_type": "stream",
          "text": [
            "accuracy with decision tree = 0.8529741863075196\n",
            "accuracy with decision tree and cross validation = 0.8039052287581699\n"
          ],
          "name": "stdout"
        }
      ]
    },
    {
      "cell_type": "markdown",
      "metadata": {
        "id": "ateLWMK85XvQ",
        "colab_type": "text"
      },
      "source": [
        "# Summary\n",
        "The project was started with data exploration which helped me know the dataset and the features to be removed in it. In the visualisation stage, matplotlib and seborn libraries were used which helped produce the graphical representation of data. Four different machine learning model were used and random forest regressor produced the best result.\n"
      ]
    }
  ]
}