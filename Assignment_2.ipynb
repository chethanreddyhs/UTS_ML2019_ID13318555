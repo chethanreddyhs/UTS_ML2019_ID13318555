{
  "nbformat": 4,
  "nbformat_minor": 0,
  "metadata": {
    "colab": {
      "name": "Assignment_2.ipynb",
      "provenance": [],
      "include_colab_link": true
    },
    "kernelspec": {
      "name": "python3",
      "display_name": "Python 3"
    }
  },
  "cells": [
    {
      "cell_type": "markdown",
      "metadata": {
        "id": "view-in-github",
        "colab_type": "text"
      },
      "source": [
        "<a href=\"https://colab.research.google.com/github/chethanreddyhs/UTS_ML2019_ID13318555/blob/master/Assignment_2.ipynb\" target=\"_parent\"><img src=\"https://colab.research.google.com/assets/colab-badge.svg\" alt=\"Open In Colab\"/></a>"
      ]
    },
    {
      "cell_type": "markdown",
      "metadata": {
        "id": "UYUDFypR2-J2",
        "colab_type": "text"
      },
      "source": [
        "#1.Import modules"
      ]
    },
    {
      "cell_type": "code",
      "metadata": {
        "id": "7c3Y8_eV1moD",
        "colab_type": "code",
        "colab": {}
      },
      "source": [
        "import pandas as pd\n",
        "import matplotlib.pyplot as plt\n",
        "import scipy\n",
        "import numpy as np\n",
        "import os\n",
        "\n",
        "import warnings\n",
        "warnings.simplefilter(action='ignore', category=FutureWarning)\n",
        "\n",
        "plt.style.use('seaborn')"
      ],
      "execution_count": 0,
      "outputs": []
    },
    {
      "cell_type": "markdown",
      "metadata": {
        "id": "T_JVcCR-gsyJ",
        "colab_type": "text"
      },
      "source": [
        "# 2.Import data"
      ]
    },
    {
      "cell_type": "code",
      "metadata": {
        "id": "WnrKuqhr3LNj",
        "colab_type": "code",
        "colab": {}
      },
      "source": [
        "os.getcwd()\n",
        "os.chdir('/var')"
      ],
      "execution_count": 0,
      "outputs": []
    },
    {
      "cell_type": "code",
      "metadata": {
        "id": "lR9IsPL46hxP",
        "colab_type": "code",
        "outputId": "a6911127-b6fc-4e52-c420-291586a4c8a9",
        "colab": {
          "base_uri": "https://localhost:8080/",
          "height": 35
        }
      },
      "source": [
        "print (os.listdir('/var'))"
      ],
      "execution_count": 8,
      "outputs": [
        {
          "output_type": "stream",
          "text": [
            "['run', 'tmp', 'cache', 'spool', 'opt', 'local', 'lock', 'backups', 'mail', 'log', 'lib', 'colab', 'test.csv', 'gender_submission.csv', 'train.csv']\n"
          ],
          "name": "stdout"
        }
      ]
    },
    {
      "cell_type": "code",
      "metadata": {
        "id": "xf-vvdFW44JQ",
        "colab_type": "code",
        "colab": {
          "base_uri": "https://localhost:8080/",
          "height": 198
        },
        "outputId": "ae9075c0-f097-4f7e-8289-d83f85e67e3f"
      },
      "source": [
        "df = pd.read_csv('train.csv')\n",
        "\n",
        "df.head()"
      ],
      "execution_count": 9,
      "outputs": [
        {
          "output_type": "execute_result",
          "data": {
            "text/html": [
              "<div>\n",
              "<style scoped>\n",
              "    .dataframe tbody tr th:only-of-type {\n",
              "        vertical-align: middle;\n",
              "    }\n",
              "\n",
              "    .dataframe tbody tr th {\n",
              "        vertical-align: top;\n",
              "    }\n",
              "\n",
              "    .dataframe thead th {\n",
              "        text-align: right;\n",
              "    }\n",
              "</style>\n",
              "<table border=\"1\" class=\"dataframe\">\n",
              "  <thead>\n",
              "    <tr style=\"text-align: right;\">\n",
              "      <th></th>\n",
              "      <th>PassengerId</th>\n",
              "      <th>Survived</th>\n",
              "      <th>Pclass</th>\n",
              "      <th>Name</th>\n",
              "      <th>Sex</th>\n",
              "      <th>Age</th>\n",
              "      <th>SibSp</th>\n",
              "      <th>Parch</th>\n",
              "      <th>Ticket</th>\n",
              "      <th>Fare</th>\n",
              "      <th>Cabin</th>\n",
              "      <th>Embarked</th>\n",
              "    </tr>\n",
              "  </thead>\n",
              "  <tbody>\n",
              "    <tr>\n",
              "      <th>0</th>\n",
              "      <td>1</td>\n",
              "      <td>0</td>\n",
              "      <td>3</td>\n",
              "      <td>Braund, Mr. Owen Harris</td>\n",
              "      <td>male</td>\n",
              "      <td>22.0</td>\n",
              "      <td>1</td>\n",
              "      <td>0</td>\n",
              "      <td>A/5 21171</td>\n",
              "      <td>7.2500</td>\n",
              "      <td>NaN</td>\n",
              "      <td>S</td>\n",
              "    </tr>\n",
              "    <tr>\n",
              "      <th>1</th>\n",
              "      <td>2</td>\n",
              "      <td>1</td>\n",
              "      <td>1</td>\n",
              "      <td>Cumings, Mrs. John Bradley (Florence Briggs Th...</td>\n",
              "      <td>female</td>\n",
              "      <td>38.0</td>\n",
              "      <td>1</td>\n",
              "      <td>0</td>\n",
              "      <td>PC 17599</td>\n",
              "      <td>71.2833</td>\n",
              "      <td>C85</td>\n",
              "      <td>C</td>\n",
              "    </tr>\n",
              "    <tr>\n",
              "      <th>2</th>\n",
              "      <td>3</td>\n",
              "      <td>1</td>\n",
              "      <td>3</td>\n",
              "      <td>Heikkinen, Miss. Laina</td>\n",
              "      <td>female</td>\n",
              "      <td>26.0</td>\n",
              "      <td>0</td>\n",
              "      <td>0</td>\n",
              "      <td>STON/O2. 3101282</td>\n",
              "      <td>7.9250</td>\n",
              "      <td>NaN</td>\n",
              "      <td>S</td>\n",
              "    </tr>\n",
              "    <tr>\n",
              "      <th>3</th>\n",
              "      <td>4</td>\n",
              "      <td>1</td>\n",
              "      <td>1</td>\n",
              "      <td>Futrelle, Mrs. Jacques Heath (Lily May Peel)</td>\n",
              "      <td>female</td>\n",
              "      <td>35.0</td>\n",
              "      <td>1</td>\n",
              "      <td>0</td>\n",
              "      <td>113803</td>\n",
              "      <td>53.1000</td>\n",
              "      <td>C123</td>\n",
              "      <td>S</td>\n",
              "    </tr>\n",
              "    <tr>\n",
              "      <th>4</th>\n",
              "      <td>5</td>\n",
              "      <td>0</td>\n",
              "      <td>3</td>\n",
              "      <td>Allen, Mr. William Henry</td>\n",
              "      <td>male</td>\n",
              "      <td>35.0</td>\n",
              "      <td>0</td>\n",
              "      <td>0</td>\n",
              "      <td>373450</td>\n",
              "      <td>8.0500</td>\n",
              "      <td>NaN</td>\n",
              "      <td>S</td>\n",
              "    </tr>\n",
              "  </tbody>\n",
              "</table>\n",
              "</div>"
            ],
            "text/plain": [
              "   PassengerId  Survived  Pclass  ...     Fare Cabin  Embarked\n",
              "0            1         0       3  ...   7.2500   NaN         S\n",
              "1            2         1       1  ...  71.2833   C85         C\n",
              "2            3         1       3  ...   7.9250   NaN         S\n",
              "3            4         1       1  ...  53.1000  C123         S\n",
              "4            5         0       3  ...   8.0500   NaN         S\n",
              "\n",
              "[5 rows x 12 columns]"
            ]
          },
          "metadata": {
            "tags": []
          },
          "execution_count": 9
        }
      ]
    },
    {
      "cell_type": "markdown",
      "metadata": {
        "id": "MhQKpH2L8haE",
        "colab_type": "text"
      },
      "source": [
        "**Three ways to make a calculated field in Python**\n",
        "\n",
        "We will make a new column called Survived_word, so that our visualizations make more sens\n",
        "\n",
        "1. define function and call it with .apply method\n",
        "2. with lambdas \n",
        "3. np.where function from numpy"
      ]
    },
    {
      "cell_type": "code",
      "metadata": {
        "id": "lvLPH4P37wmo",
        "colab_type": "code",
        "colab": {}
      },
      "source": [
        "#version 1 with def and .apply\n",
        "def survived_to_words(row):\n",
        "    if row.Survived == 1:\n",
        "        value = \"yes\"\n",
        "    elif row.Survived == 0:\n",
        "        value = \"no\"\n",
        "    else:\n",
        "        value = \"unkown\"\n",
        "    \n",
        "    return value\n",
        "\n",
        "df[\"Survived_word\"] = df.apply(survived_to_words, axis=1)"
      ],
      "execution_count": 0,
      "outputs": []
    },
    {
      "cell_type": "code",
      "metadata": {
        "id": "AxEIvU8w8TdN",
        "colab_type": "code",
        "colab": {}
      },
      "source": [
        "#version 2 with lambda\n",
        "df[\"Survived_word\"] = df.Survived.apply(lambda row: \"yes\" if row == 1 else \"no\")"
      ],
      "execution_count": 0,
      "outputs": []
    },
    {
      "cell_type": "code",
      "metadata": {
        "id": "LBtNZArK8ZcX",
        "colab_type": "code",
        "outputId": "ae7519bf-dbe7-465d-b353-1c216f806519",
        "colab": {
          "base_uri": "https://localhost:8080/",
          "height": 250
        }
      },
      "source": [
        "df.head()"
      ],
      "execution_count": 12,
      "outputs": [
        {
          "output_type": "execute_result",
          "data": {
            "text/html": [
              "<div>\n",
              "<style scoped>\n",
              "    .dataframe tbody tr th:only-of-type {\n",
              "        vertical-align: middle;\n",
              "    }\n",
              "\n",
              "    .dataframe tbody tr th {\n",
              "        vertical-align: top;\n",
              "    }\n",
              "\n",
              "    .dataframe thead th {\n",
              "        text-align: right;\n",
              "    }\n",
              "</style>\n",
              "<table border=\"1\" class=\"dataframe\">\n",
              "  <thead>\n",
              "    <tr style=\"text-align: right;\">\n",
              "      <th></th>\n",
              "      <th>PassengerId</th>\n",
              "      <th>Survived</th>\n",
              "      <th>Pclass</th>\n",
              "      <th>Name</th>\n",
              "      <th>Sex</th>\n",
              "      <th>Age</th>\n",
              "      <th>SibSp</th>\n",
              "      <th>Parch</th>\n",
              "      <th>Ticket</th>\n",
              "      <th>Fare</th>\n",
              "      <th>Cabin</th>\n",
              "      <th>Embarked</th>\n",
              "      <th>Survived_word</th>\n",
              "    </tr>\n",
              "  </thead>\n",
              "  <tbody>\n",
              "    <tr>\n",
              "      <th>0</th>\n",
              "      <td>1</td>\n",
              "      <td>0</td>\n",
              "      <td>3</td>\n",
              "      <td>Braund, Mr. Owen Harris</td>\n",
              "      <td>male</td>\n",
              "      <td>22.0</td>\n",
              "      <td>1</td>\n",
              "      <td>0</td>\n",
              "      <td>A/5 21171</td>\n",
              "      <td>7.2500</td>\n",
              "      <td>NaN</td>\n",
              "      <td>S</td>\n",
              "      <td>no</td>\n",
              "    </tr>\n",
              "    <tr>\n",
              "      <th>1</th>\n",
              "      <td>2</td>\n",
              "      <td>1</td>\n",
              "      <td>1</td>\n",
              "      <td>Cumings, Mrs. John Bradley (Florence Briggs Th...</td>\n",
              "      <td>female</td>\n",
              "      <td>38.0</td>\n",
              "      <td>1</td>\n",
              "      <td>0</td>\n",
              "      <td>PC 17599</td>\n",
              "      <td>71.2833</td>\n",
              "      <td>C85</td>\n",
              "      <td>C</td>\n",
              "      <td>yes</td>\n",
              "    </tr>\n",
              "    <tr>\n",
              "      <th>2</th>\n",
              "      <td>3</td>\n",
              "      <td>1</td>\n",
              "      <td>3</td>\n",
              "      <td>Heikkinen, Miss. Laina</td>\n",
              "      <td>female</td>\n",
              "      <td>26.0</td>\n",
              "      <td>0</td>\n",
              "      <td>0</td>\n",
              "      <td>STON/O2. 3101282</td>\n",
              "      <td>7.9250</td>\n",
              "      <td>NaN</td>\n",
              "      <td>S</td>\n",
              "      <td>yes</td>\n",
              "    </tr>\n",
              "    <tr>\n",
              "      <th>3</th>\n",
              "      <td>4</td>\n",
              "      <td>1</td>\n",
              "      <td>1</td>\n",
              "      <td>Futrelle, Mrs. Jacques Heath (Lily May Peel)</td>\n",
              "      <td>female</td>\n",
              "      <td>35.0</td>\n",
              "      <td>1</td>\n",
              "      <td>0</td>\n",
              "      <td>113803</td>\n",
              "      <td>53.1000</td>\n",
              "      <td>C123</td>\n",
              "      <td>S</td>\n",
              "      <td>yes</td>\n",
              "    </tr>\n",
              "    <tr>\n",
              "      <th>4</th>\n",
              "      <td>5</td>\n",
              "      <td>0</td>\n",
              "      <td>3</td>\n",
              "      <td>Allen, Mr. William Henry</td>\n",
              "      <td>male</td>\n",
              "      <td>35.0</td>\n",
              "      <td>0</td>\n",
              "      <td>0</td>\n",
              "      <td>373450</td>\n",
              "      <td>8.0500</td>\n",
              "      <td>NaN</td>\n",
              "      <td>S</td>\n",
              "      <td>no</td>\n",
              "    </tr>\n",
              "  </tbody>\n",
              "</table>\n",
              "</div>"
            ],
            "text/plain": [
              "   PassengerId  Survived  Pclass  ... Cabin Embarked  Survived_word\n",
              "0            1         0       3  ...   NaN        S             no\n",
              "1            2         1       1  ...   C85        C            yes\n",
              "2            3         1       3  ...   NaN        S            yes\n",
              "3            4         1       1  ...  C123        S            yes\n",
              "4            5         0       3  ...   NaN        S             no\n",
              "\n",
              "[5 rows x 13 columns]"
            ]
          },
          "metadata": {
            "tags": []
          },
          "execution_count": 12
        }
      ]
    },
    {
      "cell_type": "code",
      "metadata": {
        "id": "vGxfLO278tSa",
        "colab_type": "code",
        "outputId": "71abd80b-9484-42d4-a74a-b7ac232e5c8e",
        "colab": {
          "base_uri": "https://localhost:8080/",
          "height": 250
        }
      },
      "source": [
        "#version 3 with np.where\n",
        "df[\"Survived_word\"] = np.where(df.Survived == 1, \"yes\", \"no\")\n",
        "df.head()"
      ],
      "execution_count": 13,
      "outputs": [
        {
          "output_type": "execute_result",
          "data": {
            "text/html": [
              "<div>\n",
              "<style scoped>\n",
              "    .dataframe tbody tr th:only-of-type {\n",
              "        vertical-align: middle;\n",
              "    }\n",
              "\n",
              "    .dataframe tbody tr th {\n",
              "        vertical-align: top;\n",
              "    }\n",
              "\n",
              "    .dataframe thead th {\n",
              "        text-align: right;\n",
              "    }\n",
              "</style>\n",
              "<table border=\"1\" class=\"dataframe\">\n",
              "  <thead>\n",
              "    <tr style=\"text-align: right;\">\n",
              "      <th></th>\n",
              "      <th>PassengerId</th>\n",
              "      <th>Survived</th>\n",
              "      <th>Pclass</th>\n",
              "      <th>Name</th>\n",
              "      <th>Sex</th>\n",
              "      <th>Age</th>\n",
              "      <th>SibSp</th>\n",
              "      <th>Parch</th>\n",
              "      <th>Ticket</th>\n",
              "      <th>Fare</th>\n",
              "      <th>Cabin</th>\n",
              "      <th>Embarked</th>\n",
              "      <th>Survived_word</th>\n",
              "    </tr>\n",
              "  </thead>\n",
              "  <tbody>\n",
              "    <tr>\n",
              "      <th>0</th>\n",
              "      <td>1</td>\n",
              "      <td>0</td>\n",
              "      <td>3</td>\n",
              "      <td>Braund, Mr. Owen Harris</td>\n",
              "      <td>male</td>\n",
              "      <td>22.0</td>\n",
              "      <td>1</td>\n",
              "      <td>0</td>\n",
              "      <td>A/5 21171</td>\n",
              "      <td>7.2500</td>\n",
              "      <td>NaN</td>\n",
              "      <td>S</td>\n",
              "      <td>no</td>\n",
              "    </tr>\n",
              "    <tr>\n",
              "      <th>1</th>\n",
              "      <td>2</td>\n",
              "      <td>1</td>\n",
              "      <td>1</td>\n",
              "      <td>Cumings, Mrs. John Bradley (Florence Briggs Th...</td>\n",
              "      <td>female</td>\n",
              "      <td>38.0</td>\n",
              "      <td>1</td>\n",
              "      <td>0</td>\n",
              "      <td>PC 17599</td>\n",
              "      <td>71.2833</td>\n",
              "      <td>C85</td>\n",
              "      <td>C</td>\n",
              "      <td>yes</td>\n",
              "    </tr>\n",
              "    <tr>\n",
              "      <th>2</th>\n",
              "      <td>3</td>\n",
              "      <td>1</td>\n",
              "      <td>3</td>\n",
              "      <td>Heikkinen, Miss. Laina</td>\n",
              "      <td>female</td>\n",
              "      <td>26.0</td>\n",
              "      <td>0</td>\n",
              "      <td>0</td>\n",
              "      <td>STON/O2. 3101282</td>\n",
              "      <td>7.9250</td>\n",
              "      <td>NaN</td>\n",
              "      <td>S</td>\n",
              "      <td>yes</td>\n",
              "    </tr>\n",
              "    <tr>\n",
              "      <th>3</th>\n",
              "      <td>4</td>\n",
              "      <td>1</td>\n",
              "      <td>1</td>\n",
              "      <td>Futrelle, Mrs. Jacques Heath (Lily May Peel)</td>\n",
              "      <td>female</td>\n",
              "      <td>35.0</td>\n",
              "      <td>1</td>\n",
              "      <td>0</td>\n",
              "      <td>113803</td>\n",
              "      <td>53.1000</td>\n",
              "      <td>C123</td>\n",
              "      <td>S</td>\n",
              "      <td>yes</td>\n",
              "    </tr>\n",
              "    <tr>\n",
              "      <th>4</th>\n",
              "      <td>5</td>\n",
              "      <td>0</td>\n",
              "      <td>3</td>\n",
              "      <td>Allen, Mr. William Henry</td>\n",
              "      <td>male</td>\n",
              "      <td>35.0</td>\n",
              "      <td>0</td>\n",
              "      <td>0</td>\n",
              "      <td>373450</td>\n",
              "      <td>8.0500</td>\n",
              "      <td>NaN</td>\n",
              "      <td>S</td>\n",
              "      <td>no</td>\n",
              "    </tr>\n",
              "  </tbody>\n",
              "</table>\n",
              "</div>"
            ],
            "text/plain": [
              "   PassengerId  Survived  Pclass  ... Cabin Embarked  Survived_word\n",
              "0            1         0       3  ...   NaN        S             no\n",
              "1            2         1       1  ...   C85        C            yes\n",
              "2            3         1       3  ...   NaN        S            yes\n",
              "3            4         1       1  ...  C123        S            yes\n",
              "4            5         0       3  ...   NaN        S             no\n",
              "\n",
              "[5 rows x 13 columns]"
            ]
          },
          "metadata": {
            "tags": []
          },
          "execution_count": 13
        }
      ]
    },
    {
      "cell_type": "markdown",
      "metadata": {
        "id": "RXaViRkV9RWu",
        "colab_type": "text"
      },
      "source": [
        "**We print the shape of our dataframe (rows, columns) and after that the amount of rows that have a value in each column**"
      ]
    },
    {
      "cell_type": "code",
      "metadata": {
        "id": "9JzltgII9doF",
        "colab_type": "code",
        "outputId": "90eabdb2-aa8d-417d-e380-32b3a9b30558",
        "colab": {
          "base_uri": "https://localhost:8080/",
          "height": 308
        }
      },
      "source": [
        "print('shape is',df.shape, '\\n')\n",
        "print(df.count())"
      ],
      "execution_count": 14,
      "outputs": [
        {
          "output_type": "stream",
          "text": [
            "shape is (891, 13) \n",
            "\n",
            "PassengerId      891\n",
            "Survived         891\n",
            "Pclass           891\n",
            "Name             891\n",
            "Sex              891\n",
            "Age              714\n",
            "SibSp            891\n",
            "Parch            891\n",
            "Ticket           891\n",
            "Fare             891\n",
            "Cabin            204\n",
            "Embarked         889\n",
            "Survived_word    891\n",
            "dtype: int64\n"
          ],
          "name": "stdout"
        }
      ]
    },
    {
      "cell_type": "markdown",
      "metadata": {
        "id": "n5Itc0cd94Gx",
        "colab_type": "text"
      },
      "source": [
        "# 3. Visualization pt 1\n",
        "\n",
        "Lets make some visualizations get a better understanding of our data"
      ]
    },
    {
      "cell_type": "code",
      "metadata": {
        "id": "HYWLEdm7-D67",
        "colab_type": "code",
        "outputId": "203a40c0-a095-4cb1-c511-3460793427a5",
        "colab": {
          "base_uri": "https://localhost:8080/",
          "height": 364
        }
      },
      "source": [
        "fig=plt.figure(figsize=(8, 5), dpi= 80, facecolor='w', edgecolor='k')\n",
        "\n",
        "df.Survived.value_counts(normalize=True).plot(kind=\"bar\")\n",
        "plt.title(\"Survived\")\n",
        "\n",
        "plt.show()"
      ],
      "execution_count": 15,
      "outputs": [
        {
          "output_type": "display_data",
          "data": {
            "image/png": "[encoded data removed]",
            "text/plain": [
              "<Figure size 640x400 with 1 Axes>"
            ]
          },
          "metadata": {
            "tags": []
          }
        }
      ]
    },
    {
      "cell_type": "code",
      "metadata": {
        "id": "R7M8kdpm_otP",
        "colab_type": "code",
        "outputId": "a417901a-c6db-44dd-b952-473b8e817146",
        "colab": {
          "base_uri": "https://localhost:8080/",
          "height": 368
        }
      },
      "source": [
        "fig=plt.figure(figsize=(8, 5), dpi= 80, facecolor='w', edgecolor='k')\n",
        "\n",
        "plt.scatter(df.Survived, df.Age, alpha=0.1)\n",
        "plt.title(\"Age wrt Survived\")\n",
        "\n",
        "plt.show()"
      ],
      "execution_count": 16,
      "outputs": [
        {
          "output_type": "display_data",
          "data": {
            "image/png": "[encoded data removed]",
            "text/plain": [
              "<Figure size 640x400 with 1 Axes>"
            ]
          },
          "metadata": {
            "tags": []
          }
        }
      ]
    },
    {
      "cell_type": "code",
      "metadata": {
        "id": "l7xPAWOI_2JY",
        "colab_type": "code",
        "outputId": "a761d775-ba5a-447a-dd0b-f789ad1670ad",
        "colab": {
          "base_uri": "https://localhost:8080/",
          "height": 419
        }
      },
      "source": [
        "fig=plt.figure(figsize=(22, 13), dpi= 80, facecolor='w', edgecolor='k')\n",
        "\n",
        "plt.subplot2grid((2,3), (0,0))\n",
        "df.Pclass.value_counts(normalize=True).plot(kind=\"pie\")\n",
        "plt.title(\"Distribution of class\")\n",
        "\n",
        "plt.subplot2grid((2,3), (0,1))\n",
        "df.Pclass.value_counts(normalize=True).plot(kind=\"bar\")\n",
        "plt.title(\"Distribution of class\")\n",
        "\n",
        "plt.show()"
      ],
      "execution_count": 17,
      "outputs": [
        {
          "output_type": "display_data",
          "data": {
            "image/png": "[encoded data removed]",
            "text/plain": [
              "<Figure size 1760x1040 with 2 Axes>"
            ]
          },
          "metadata": {
            "tags": []
          }
        }
      ]
    },
    {
      "cell_type": "code",
      "metadata": {
        "id": "i8K2CGFFBXJQ",
        "colab_type": "code",
        "outputId": "b998a046-e23f-4e38-b692-1c3d4dfe4a65",
        "colab": {
          "base_uri": "https://localhost:8080/",
          "height": 368
        }
      },
      "source": [
        "fig=plt.figure(figsize=(10, 5), dpi= 80, facecolor='w', edgecolor='k')\n",
        "\n",
        "for x in [1,2,3]:\n",
        "    df.Age[df.Pclass == x].plot(kind=\"kde\")\n",
        "plt.title(\"Class wrt Age\")\n",
        "plt.legend((\"Class 1\", \"Class 2\", \"Class 3\"))\n",
        "\n",
        "plt.show()"
      ],
      "execution_count": 18,
      "outputs": [
        {
          "output_type": "display_data",
          "data": {
            "image/png": "[encoded data removed]",
            "text/plain": [
              "<Figure size 800x400 with 1 Axes>"
            ]
          },
          "metadata": {
            "tags": []
          }
        }
      ]
    },
    {
      "cell_type": "code",
      "metadata": {
        "id": "C6KDC7vSBh-i",
        "colab_type": "code",
        "outputId": "95bc8278-9607-441c-a6dc-960de50a48c2",
        "colab": {
          "base_uri": "https://localhost:8080/",
          "height": 367
        }
      },
      "source": [
        "fig=plt.figure(figsize=(8, 5), dpi= 80, facecolor='w', edgecolor='k')\n",
        "\n",
        "df.Embarked.value_counts(normalize=True).plot(kind=\"bar\")\n",
        "plt.title(\"Embarked location\")\n",
        "\n",
        "plt.show()\n"
      ],
      "execution_count": 19,
      "outputs": [
        {
          "output_type": "display_data",
          "data": {
            "image/png": "[encoded data removed]",
            "text/plain": [
              "<Figure size 640x400 with 1 Axes>"
            ]
          },
          "metadata": {
            "tags": []
          }
        }
      ]
    },
    {
      "cell_type": "code",
      "metadata": {
        "id": "mExlcdYmBo6B",
        "colab_type": "code",
        "outputId": "d2b99db8-8a5d-4b20-dd4e-42c3e5d0a3c0",
        "colab": {
          "base_uri": "https://localhost:8080/",
          "height": 323
        }
      },
      "source": [
        "fig = plt.figure(figsize=(22,15))\n",
        "\n",
        "plt.subplot2grid((3,4), (0,0))\n",
        "df.Survived_word[df.Sex == \"male\"].value_counts(normalize=True).plot(kind=\"bar\", color=\"#fc8320\")\n",
        "plt.title(\"Men survived\")\n",
        "\n",
        "plt.subplot2grid((3,4), (0,1))\n",
        "df.Survived_word[df.Sex == \"female\"].value_counts(normalize=True).plot(kind=\"bar\", color=\"#006418\")\n",
        "plt.title(\"Women survived\")\n",
        "\n",
        "plt.subplot2grid((3,4), (0,2))\n",
        "df.Sex[df.Survived_word == \"yes\"].value_counts(normalize=True).plot(kind=\"bar\", color=\"#065183\")\n",
        "plt.title(\"Sex of survivors\")\n",
        "\n",
        "plt.show()"
      ],
      "execution_count": 20,
      "outputs": [
        {
          "output_type": "display_data",
          "data": {
            "image/png": "[encoded data removed]",
            "text/plain": [
              "<Figure size 1584x1080 with 3 Axes>"
            ]
          },
          "metadata": {
            "tags": []
          }
        }
      ]
    },
    {
      "cell_type": "code",
      "metadata": {
        "id": "obe2eSFrBtf9",
        "colab_type": "code",
        "outputId": "05b3d993-3b4a-44d5-e1e9-6aa6d3fafb74",
        "colab": {
          "base_uri": "https://localhost:8080/",
          "height": 368
        }
      },
      "source": [
        "fig=plt.figure(figsize=(10, 5), dpi= 80, facecolor='w', edgecolor='k')\n",
        "\n",
        "for x in [1,2,3]:\n",
        "    df.Survived[df.Pclass == x].plot(kind=\"kde\")\n",
        "plt.title(\"Survived wrt Class\")\n",
        "plt.legend((\"Class 1\", \"Class 2\", \"Class 3\"))\n",
        "\n",
        "plt.show()"
      ],
      "execution_count": 21,
      "outputs": [
        {
          "output_type": "display_data",
          "data": {
            "image/png": "[encoded data removed]",
            "text/plain": [
              "<Figure size 800x400 with 1 Axes>"
            ]
          },
          "metadata": {
            "tags": []
          }
        }
      ]
    },
    {
      "cell_type": "markdown",
      "metadata": {
        "id": "J1Si2FhDB2OP",
        "colab_type": "text"
      },
      "source": [
        "# 4. Visualization pt 2\n",
        "\n",
        "**Now we understand our data by visualizing it, lets analyze it in more depth**"
      ]
    },
    {
      "cell_type": "code",
      "metadata": {
        "id": "ZxxRfjFICGli",
        "colab_type": "code",
        "outputId": "4e23aa6a-b9a3-4fc2-c89e-0884e7237013",
        "colab": {
          "base_uri": "https://localhost:8080/",
          "height": 596
        }
      },
      "source": [
        "fig = plt.figure(figsize=(22,15))\n",
        "\n",
        "plt.subplot2grid((3,4), (0,0))\n",
        "df.Survived_word[(df.Sex == \"male\")  &  (df.Pclass == 1)].value_counts(normalize=True).plot(kind=\"bar\", color=\"#fc8320\")\n",
        "plt.title(\"Rich men survived\")\n",
        "\n",
        "plt.subplot2grid((3,4), (0,1))\n",
        "df.Survived_word[(df.Sex == \"male\")  &  (df.Pclass == 3)].value_counts(normalize=True).plot(kind=\"bar\", color=\"#006418\")\n",
        "plt.title(\"Poor men survived\")\n",
        "\n",
        "plt.subplot2grid((3,4), (1,0))\n",
        "df.Survived_word[(df.Sex == \"female\")  &  (df.Pclass == 1)].value_counts(normalize=True).plot(kind=\"bar\", color=\"#065183\")\n",
        "plt.title(\"Rich women survived\")\n",
        "\n",
        "plt.subplot2grid((3,4), (1,1))\n",
        "df.Survived_word[(df.Sex == \"female\")  &  (df.Pclass == 3)].value_counts(normalize=True).plot(kind=\"bar\", color=\"#b30000\", alpha=0.75)\n",
        "plt.title(\"Poor women survived\")\n",
        "plt.show()"
      ],
      "execution_count": 22,
      "outputs": [
        {
          "output_type": "display_data",
          "data": {
            "image/png": "[encoded data removed]",
            "text/plain": [
              "<Figure size 1584x1080 with 4 Axes>"
            ]
          },
          "metadata": {
            "tags": []
          }
        }
      ]
    },
    {
      "cell_type": "markdown",
      "metadata": {
        "id": "-DqaYiBBCOuo",
        "colab_type": "text"
      },
      "source": [
        "## 5. ML Models\n",
        "\n",
        "Lets start to use some ML models on this data\n",
        "\n",
        "\n",
        "First we start with some hypothesis which we found by visualizing our data (EDA)\n",
        "\n",
        "\n",
        "1.   Gender is a good predictor for suvival, women will more likely survive.\n",
        "\n",
        "2.   The higher the class (1 is high, 3 is low) the more likeley the person has survived\n",
        "3.   Logically we can derive from the points above that a item rich women has almost always survived (97%).\n",
        "\n",
        "Lets first use genderonly as the predictor for survival, as stated in the first hypothesis"
      ]
    },
    {
      "cell_type": "code",
      "metadata": {
        "id": "Hf50AyUfG6I5",
        "colab_type": "code",
        "outputId": "673212c1-8510-4c63-a5d6-55a9633ae4e9",
        "colab": {
          "base_uri": "https://localhost:8080/",
          "height": 72
        }
      },
      "source": [
        "train = df.copy()\n",
        "\n",
        "train[\"Hypothesis\"] = np.where(train.Sex == 'female', 1, 0)\n",
        "train['Result'] = np.where(train.Hypothesis == train.Survived, 1, 0)\n",
        "\n",
        "train.Result.value_counts(normalize=True)"
      ],
      "execution_count": 23,
      "outputs": [
        {
          "output_type": "execute_result",
          "data": {
            "text/plain": [
              "1    0.786756\n",
              "0    0.213244\n",
              "Name: Result, dtype: float64"
            ]
          },
          "metadata": {
            "tags": []
          },
          "execution_count": 23
        }
      ]
    },
    {
      "cell_type": "markdown",
      "metadata": {
        "id": "oCTVx2S9HDOp",
        "colab_type": "text"
      },
      "source": [
        "**Conclusion**: if we only use gender as a predictor, we already have a 79% accuracty, thats high!\n",
        "\n",
        "But lets try to predict with actuall ML models like:\n",
        "\n",
        "1.Logistic Regression\n",
        "\n",
        "2.Polynomial\n",
        "\n",
        "3.Random forest\n",
        "\n",
        "4.XGBoost\n",
        "\n",
        "5.Decision tree with cross validation\n"
      ]
    },
    {
      "cell_type": "markdown",
      "metadata": {
        "id": "pGHtP4C0HRda",
        "colab_type": "text"
      },
      "source": [
        "# 5.1 Feature engineering\n",
        "\n",
        "Before we can use our ML models, we need to clean up our data (handle NaNs) and convert our categorical data"
      ]
    },
    {
      "cell_type": "code",
      "metadata": {
        "id": "x9-B7WuaH36W",
        "colab_type": "code",
        "outputId": "ad7c095f-46d7-4cb0-e569-c8fb387f7ce6",
        "colab": {
          "base_uri": "https://localhost:8080/",
          "height": 285
        }
      },
      "source": [
        "def clean_data(data):\n",
        "    # Fill the empty rows of Fare and Age with their median\n",
        "    data['Fare'] = data.Fare.fillna(data.Fare.dropna().median())\n",
        "    data['Age'] = data.Age.fillna(data.Age.dropna().median())\n",
        "    \n",
        "    # Convert Sex column from words \"Female\" and \"Male\" to 0 and 1\n",
        "    data[\"Sex\"] = np.where(data.Sex == \"male\", 0, 1)\n",
        "    \n",
        "    # Fill NaNs of Embarked column and convert to integers\n",
        "    data[\"Embarked\"] = data[\"Embarked\"].fillna(\"S\")\n",
        "    conditions = [data['Embarked'] == \"S\", \n",
        "                  data['Embarked'] == \"C\",\n",
        "                  data['Embarked'] == \"Q\"]\n",
        "    choices = [0, 1, 2]\n",
        "    data[\"Embarked\"] = np.select(conditions, choices, default = 0)\n",
        "\n",
        "clean_data(train)\n",
        "\n",
        "train.head()"
      ],
      "execution_count": 24,
      "outputs": [
        {
          "output_type": "execute_result",
          "data": {
            "text/html": [
              "<div>\n",
              "<style scoped>\n",
              "    .dataframe tbody tr th:only-of-type {\n",
              "        vertical-align: middle;\n",
              "    }\n",
              "\n",
              "    .dataframe tbody tr th {\n",
              "        vertical-align: top;\n",
              "    }\n",
              "\n",
              "    .dataframe thead th {\n",
              "        text-align: right;\n",
              "    }\n",
              "</style>\n",
              "<table border=\"1\" class=\"dataframe\">\n",
              "  <thead>\n",
              "    <tr style=\"text-align: right;\">\n",
              "      <th></th>\n",
              "      <th>PassengerId</th>\n",
              "      <th>Survived</th>\n",
              "      <th>Pclass</th>\n",
              "      <th>Name</th>\n",
              "      <th>Sex</th>\n",
              "      <th>Age</th>\n",
              "      <th>SibSp</th>\n",
              "      <th>Parch</th>\n",
              "      <th>Ticket</th>\n",
              "      <th>Fare</th>\n",
              "      <th>Cabin</th>\n",
              "      <th>Embarked</th>\n",
              "      <th>Survived_word</th>\n",
              "      <th>Hypothesis</th>\n",
              "      <th>Result</th>\n",
              "    </tr>\n",
              "  </thead>\n",
              "  <tbody>\n",
              "    <tr>\n",
              "      <th>0</th>\n",
              "      <td>1</td>\n",
              "      <td>0</td>\n",
              "      <td>3</td>\n",
              "      <td>Braund, Mr. Owen Harris</td>\n",
              "      <td>0</td>\n",
              "      <td>22.0</td>\n",
              "      <td>1</td>\n",
              "      <td>0</td>\n",
              "      <td>A/5 21171</td>\n",
              "      <td>7.2500</td>\n",
              "      <td>NaN</td>\n",
              "      <td>0</td>\n",
              "      <td>no</td>\n",
              "      <td>0</td>\n",
              "      <td>1</td>\n",
              "    </tr>\n",
              "    <tr>\n",
              "      <th>1</th>\n",
              "      <td>2</td>\n",
              "      <td>1</td>\n",
              "      <td>1</td>\n",
              "      <td>Cumings, Mrs. John Bradley (Florence Briggs Th...</td>\n",
              "      <td>1</td>\n",
              "      <td>38.0</td>\n",
              "      <td>1</td>\n",
              "      <td>0</td>\n",
              "      <td>PC 17599</td>\n",
              "      <td>71.2833</td>\n",
              "      <td>C85</td>\n",
              "      <td>1</td>\n",
              "      <td>yes</td>\n",
              "      <td>1</td>\n",
              "      <td>1</td>\n",
              "    </tr>\n",
              "    <tr>\n",
              "      <th>2</th>\n",
              "      <td>3</td>\n",
              "      <td>1</td>\n",
              "      <td>3</td>\n",
              "      <td>Heikkinen, Miss. Laina</td>\n",
              "      <td>1</td>\n",
              "      <td>26.0</td>\n",
              "      <td>0</td>\n",
              "      <td>0</td>\n",
              "      <td>STON/O2. 3101282</td>\n",
              "      <td>7.9250</td>\n",
              "      <td>NaN</td>\n",
              "      <td>0</td>\n",
              "      <td>yes</td>\n",
              "      <td>1</td>\n",
              "      <td>1</td>\n",
              "    </tr>\n",
              "    <tr>\n",
              "      <th>3</th>\n",
              "      <td>4</td>\n",
              "      <td>1</td>\n",
              "      <td>1</td>\n",
              "      <td>Futrelle, Mrs. Jacques Heath (Lily May Peel)</td>\n",
              "      <td>1</td>\n",
              "      <td>35.0</td>\n",
              "      <td>1</td>\n",
              "      <td>0</td>\n",
              "      <td>113803</td>\n",
              "      <td>53.1000</td>\n",
              "      <td>C123</td>\n",
              "      <td>0</td>\n",
              "      <td>yes</td>\n",
              "      <td>1</td>\n",
              "      <td>1</td>\n",
              "    </tr>\n",
              "    <tr>\n",
              "      <th>4</th>\n",
              "      <td>5</td>\n",
              "      <td>0</td>\n",
              "      <td>3</td>\n",
              "      <td>Allen, Mr. William Henry</td>\n",
              "      <td>0</td>\n",
              "      <td>35.0</td>\n",
              "      <td>0</td>\n",
              "      <td>0</td>\n",
              "      <td>373450</td>\n",
              "      <td>8.0500</td>\n",
              "      <td>NaN</td>\n",
              "      <td>0</td>\n",
              "      <td>no</td>\n",
              "      <td>0</td>\n",
              "      <td>1</td>\n",
              "    </tr>\n",
              "  </tbody>\n",
              "</table>\n",
              "</div>"
            ],
            "text/plain": [
              "   PassengerId  Survived  Pclass  ... Survived_word  Hypothesis  Result\n",
              "0            1         0       3  ...            no           0       1\n",
              "1            2         1       1  ...           yes           1       1\n",
              "2            3         1       3  ...           yes           1       1\n",
              "3            4         1       1  ...           yes           1       1\n",
              "4            5         0       3  ...            no           0       1\n",
              "\n",
              "[5 rows x 15 columns]"
            ]
          },
          "metadata": {
            "tags": []
          },
          "execution_count": 24
        }
      ]
    },
    {
      "cell_type": "markdown",
      "metadata": {
        "id": "OYdD_23RIK7q",
        "colab_type": "text"
      },
      "source": [
        "# 5.2 Logistic Regression Classifier\n",
        "\n",
        "Since our dependent variable (Survived) is binary (0 or 1) we have to classify our data to these to outcomes. Logistic regression is one of the models we can use here to classify our data."
      ]
    },
    {
      "cell_type": "code",
      "metadata": {
        "id": "j7ITEYg7IU6o",
        "colab_type": "code",
        "colab": {}
      },
      "source": [
        "from sklearn.linear_model import LogisticRegression\n",
        "from sklearn.model_selection import cross_val_score"
      ],
      "execution_count": 0,
      "outputs": []
    },
    {
      "cell_type": "code",
      "metadata": {
        "id": "5NQY5URoId0Q",
        "colab_type": "code",
        "outputId": "92e1fc3f-0f45-4ae2-ee2a-2672bdf0d646",
        "colab": {
          "base_uri": "https://localhost:8080/",
          "height": 54
        }
      },
      "source": [
        "feature_columns = ['Pclass', 'Age', 'Sex', 'SibSp', 'Parch']\n",
        "\n",
        "target = train.Survived.values\n",
        "features = train[feature_columns].values\n",
        "\n",
        "classifier = LogisticRegression(solver='lbfgs')\n",
        "classifier_ = classifier.fit(features, target)\n",
        "\n",
        "print(\"logistic regression accuracy =\", classifier_.score(features, target))\n",
        "\n",
        "print(\"logistic regression accuracy with cross validation = \", np.mean(cross_val_score(classifier, \n",
        "                                                                                        features, \n",
        "                                                                                        target, \n",
        "                                                                                        cv=10)))"
      ],
      "execution_count": 26,
      "outputs": [
        {
          "output_type": "stream",
          "text": [
            "logistic regression accuracy = 0.7912457912457912\n",
            "logistic regression accuracy with cross validation =  0.7867617183066622\n"
          ],
          "name": "stdout"
        }
      ]
    },
    {
      "cell_type": "markdown",
      "metadata": {
        "id": "VjUBgshuek5Z",
        "colab_type": "text"
      },
      "source": [
        "# 5.3 Polynomial\n",
        "\n",
        "With logistic regression we assume that our data is linear, but it could be the case that some relations are second degree (polynomial). So lets try to fit a second degree relations between the features and the target variable."
      ]
    },
    {
      "cell_type": "code",
      "metadata": {
        "id": "xadjFAapex1L",
        "colab_type": "code",
        "colab": {}
      },
      "source": [
        "from sklearn.preprocessing import PolynomialFeatures"
      ],
      "execution_count": 0,
      "outputs": []
    },
    {
      "cell_type": "code",
      "metadata": {
        "id": "PjxRLTzqe0Vh",
        "colab_type": "code",
        "colab": {
          "base_uri": "https://localhost:8080/",
          "height": 54
        },
        "outputId": "ce0bc8f1-9b2e-452c-ab46-1772ceea5640"
      },
      "source": [
        "poly = PolynomialFeatures(degree=2)\n",
        "poly_features = poly.fit_transform(features)\n",
        "\n",
        "classifier = LogisticRegression()\n",
        "classifier_ = classifier.fit(poly_features, target)\n",
        "print(\"accuracy with polynomial features =\", classifier_.score(poly_features, target))\n",
        "\n",
        "print(\"accuracy with polynomial features combined with cross validation =\", \n",
        "      np.mean(cross_val_score(classifier, \n",
        "                               poly_features, \n",
        "                               target, \n",
        "                               cv=10)))"
      ],
      "execution_count": 28,
      "outputs": [
        {
          "output_type": "stream",
          "text": [
            "accuracy with polynomial features = 0.8305274971941639\n",
            "accuracy with polynomial features combined with cross validation = 0.8227303938258995\n"
          ],
          "name": "stdout"
        }
      ]
    },
    {
      "cell_type": "markdown",
      "metadata": {
        "id": "mrLNtnkSffT9",
        "colab_type": "text"
      },
      "source": [
        "# 5.4 Random forrest classifier\n",
        "\n",
        "We can also try to attempt to fit our data with decision trees, not just one, but 100 of them. Basically we will use the mean of the accuracy of these 100 decision trees. The advantage of RF compared to a single decision tree is that we can anticipate on overfitting for a part."
      ]
    },
    {
      "cell_type": "code",
      "metadata": {
        "id": "m1ikB6NAfh91",
        "colab_type": "code",
        "colab": {
          "base_uri": "https://localhost:8080/",
          "height": 54
        },
        "outputId": "1a72947e-8695-471b-ce7b-e71c8fd5ecc5"
      },
      "source": [
        "from sklearn.ensemble import RandomForestClassifier\n",
        "\n",
        "rf = RandomForestClassifier(n_estimators=100)\n",
        "rf_ = rf.fit(features, target)\n",
        "\n",
        "print(\"accuracy with random forrest regressor =\", rf_.score(features, target))\n",
        "\n",
        "print(\"accuracy with random forrest regressor and cross validation =\",\n",
        "      np.mean(cross_val_score(rf, \n",
        "                               features, \n",
        "                               target, \n",
        "                               cv=10)))"
      ],
      "execution_count": 29,
      "outputs": [
        {
          "output_type": "stream",
          "text": [
            "accuracy with random forrest regressor = 0.9169472502805837\n",
            "accuracy with random forrest regressor and cross validation = 0.8093720917035524\n"
          ],
          "name": "stdout"
        }
      ]
    },
    {
      "cell_type": "markdown",
      "metadata": {
        "id": "54VJkg6dfzcm",
        "colab_type": "text"
      },
      "source": [
        "# 5.5 Decision tree with cross validation"
      ]
    },
    {
      "cell_type": "code",
      "metadata": {
        "id": "D2Rlm0eOf8m4",
        "colab_type": "code",
        "colab": {
          "base_uri": "https://localhost:8080/",
          "height": 54
        },
        "outputId": "0db2fc9b-0bbf-4222-b99c-a0c7ddcfc56b"
      },
      "source": [
        "from sklearn.tree import DecisionTreeClassifier\n",
        "\n",
        "decision_tree = DecisionTreeClassifier(random_state=1,\n",
        "                                      max_depth=7,\n",
        "                                      min_samples_split=2)\n",
        "\n",
        "decision_tree_ = decision_tree.fit(features, target)\n",
        "\n",
        "print(\"accuracy with decision tree =\", decision_tree_.score(features, target))\n",
        "print(\"accuracy with decision tree and cross validation =\",\n",
        "     np.mean(cross_val_score(decision_tree, features, target, cv=50)))"
      ],
      "execution_count": 30,
      "outputs": [
        {
          "output_type": "stream",
          "text": [
            "accuracy with decision tree = 0.8529741863075196\n",
            "accuracy with decision tree and cross validation = 0.8039052287581699\n"
          ],
          "name": "stdout"
        }
      ]
    }
  ]
}